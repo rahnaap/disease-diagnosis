{
 "cells": [
  {
   "cell_type": "markdown",
   "id": "6a2ef63e-4dde-4417-85fd-b62f0cd5c325",
   "metadata": {},
   "source": [
    "# Import libraries"
   ]
  },
  {
   "cell_type": "code",
   "execution_count": 65,
   "id": "d426c9de-6ab9-43f4-954b-94f1cf756e1f",
   "metadata": {},
   "outputs": [],
   "source": [
    "import warnings\n",
    "warnings.filterwarnings('ignore')"
   ]
  },
  {
   "cell_type": "code",
   "execution_count": 66,
   "id": "4abdc533-5a9a-4dda-8d85-6a7a00f1f144",
   "metadata": {},
   "outputs": [],
   "source": [
    "import pandas as pd\n",
    "import numpy as np\n",
    "import matplotlib.pyplot as plt\n",
    "import seaborn as sns\n",
    "from sklearn.preprocessing import OneHotEncoder, StandardScaler\n",
    "from sklearn.compose import ColumnTransformer\n",
    "from sklearn.pipeline import Pipeline\n",
    "from sklearn.model_selection import train_test_split\n",
    "from sklearn.ensemble import RandomForestClassifier\n",
    "from sklearn.metrics import accuracy_score, classification_report\n",
    "import pickle"
   ]
  },
  {
   "cell_type": "markdown",
   "id": "b99c27dd-5748-432f-8ef2-602ccec5a03d",
   "metadata": {},
   "source": [
    "# Load data"
   ]
  },
  {
   "cell_type": "code",
   "execution_count": 67,
   "id": "c8810237-fb99-499c-9e58-6c3d0cbc8048",
   "metadata": {},
   "outputs": [
    {
     "data": {
      "text/html": [
       "<div>\n",
       "<style scoped>\n",
       "    .dataframe tbody tr th:only-of-type {\n",
       "        vertical-align: middle;\n",
       "    }\n",
       "\n",
       "    .dataframe tbody tr th {\n",
       "        vertical-align: top;\n",
       "    }\n",
       "\n",
       "    .dataframe thead th {\n",
       "        text-align: right;\n",
       "    }\n",
       "</style>\n",
       "<table border=\"1\" class=\"dataframe\">\n",
       "  <thead>\n",
       "    <tr style=\"text-align: right;\">\n",
       "      <th></th>\n",
       "      <th>Patient_ID</th>\n",
       "      <th>Age</th>\n",
       "      <th>Gender</th>\n",
       "      <th>Symptom_1</th>\n",
       "      <th>Symptom_2</th>\n",
       "      <th>Symptom_3</th>\n",
       "      <th>Heart_Rate_bpm</th>\n",
       "      <th>Body_Temperature_C</th>\n",
       "      <th>Blood_Pressure_mmHg</th>\n",
       "      <th>Oxygen_Saturation_%</th>\n",
       "      <th>Diagnosis</th>\n",
       "      <th>Severity</th>\n",
       "      <th>Treatment_Plan</th>\n",
       "    </tr>\n",
       "  </thead>\n",
       "  <tbody>\n",
       "    <tr>\n",
       "      <th>0</th>\n",
       "      <td>1</td>\n",
       "      <td>74</td>\n",
       "      <td>Male</td>\n",
       "      <td>Fatigue</td>\n",
       "      <td>Sore throat</td>\n",
       "      <td>Fever</td>\n",
       "      <td>69</td>\n",
       "      <td>39.4</td>\n",
       "      <td>132/91</td>\n",
       "      <td>94</td>\n",
       "      <td>Flu</td>\n",
       "      <td>Moderate</td>\n",
       "      <td>Medication and rest</td>\n",
       "    </tr>\n",
       "    <tr>\n",
       "      <th>1</th>\n",
       "      <td>2</td>\n",
       "      <td>66</td>\n",
       "      <td>Female</td>\n",
       "      <td>Sore throat</td>\n",
       "      <td>Fatigue</td>\n",
       "      <td>Cough</td>\n",
       "      <td>95</td>\n",
       "      <td>39.0</td>\n",
       "      <td>174/98</td>\n",
       "      <td>98</td>\n",
       "      <td>Healthy</td>\n",
       "      <td>Mild</td>\n",
       "      <td>Rest and fluids</td>\n",
       "    </tr>\n",
       "    <tr>\n",
       "      <th>2</th>\n",
       "      <td>3</td>\n",
       "      <td>32</td>\n",
       "      <td>Male</td>\n",
       "      <td>Body ache</td>\n",
       "      <td>Sore throat</td>\n",
       "      <td>Fatigue</td>\n",
       "      <td>77</td>\n",
       "      <td>36.8</td>\n",
       "      <td>136/60</td>\n",
       "      <td>96</td>\n",
       "      <td>Healthy</td>\n",
       "      <td>Mild</td>\n",
       "      <td>Rest and fluids</td>\n",
       "    </tr>\n",
       "    <tr>\n",
       "      <th>3</th>\n",
       "      <td>4</td>\n",
       "      <td>21</td>\n",
       "      <td>Female</td>\n",
       "      <td>Shortness of breath</td>\n",
       "      <td>Headache</td>\n",
       "      <td>Cough</td>\n",
       "      <td>72</td>\n",
       "      <td>38.9</td>\n",
       "      <td>147/82</td>\n",
       "      <td>99</td>\n",
       "      <td>Healthy</td>\n",
       "      <td>Mild</td>\n",
       "      <td>Rest and fluids</td>\n",
       "    </tr>\n",
       "    <tr>\n",
       "      <th>4</th>\n",
       "      <td>5</td>\n",
       "      <td>53</td>\n",
       "      <td>Male</td>\n",
       "      <td>Runny nose</td>\n",
       "      <td>Sore throat</td>\n",
       "      <td>Fatigue</td>\n",
       "      <td>100</td>\n",
       "      <td>36.6</td>\n",
       "      <td>109/106</td>\n",
       "      <td>92</td>\n",
       "      <td>Healthy</td>\n",
       "      <td>Mild</td>\n",
       "      <td>Rest and fluids</td>\n",
       "    </tr>\n",
       "  </tbody>\n",
       "</table>\n",
       "</div>"
      ],
      "text/plain": [
       "   Patient_ID  Age  Gender            Symptom_1    Symptom_2 Symptom_3  \\\n",
       "0           1   74    Male              Fatigue  Sore throat     Fever   \n",
       "1           2   66  Female          Sore throat      Fatigue     Cough   \n",
       "2           3   32    Male            Body ache  Sore throat   Fatigue   \n",
       "3           4   21  Female  Shortness of breath     Headache     Cough   \n",
       "4           5   53    Male           Runny nose  Sore throat   Fatigue   \n",
       "\n",
       "   Heart_Rate_bpm  Body_Temperature_C Blood_Pressure_mmHg  \\\n",
       "0              69                39.4              132/91   \n",
       "1              95                39.0              174/98   \n",
       "2              77                36.8              136/60   \n",
       "3              72                38.9              147/82   \n",
       "4             100                36.6             109/106   \n",
       "\n",
       "   Oxygen_Saturation_% Diagnosis  Severity       Treatment_Plan  \n",
       "0                   94       Flu  Moderate  Medication and rest  \n",
       "1                   98   Healthy      Mild      Rest and fluids  \n",
       "2                   96   Healthy      Mild      Rest and fluids  \n",
       "3                   99   Healthy      Mild      Rest and fluids  \n",
       "4                   92   Healthy      Mild      Rest and fluids  "
      ]
     },
     "execution_count": 67,
     "metadata": {},
     "output_type": "execute_result"
    }
   ],
   "source": [
    "data = pd.read_csv(\"disease_diagnosis.csv\")\n",
    "data.head()"
   ]
  },
  {
   "cell_type": "code",
   "execution_count": 95,
   "id": "ac1263fb-1e94-4ac1-9a45-24b19c312225",
   "metadata": {},
   "outputs": [
    {
     "data": {
      "text/plain": [
       "array(['Moderate', 'Mild', 'Severe'], dtype=object)"
      ]
     },
     "execution_count": 95,
     "metadata": {},
     "output_type": "execute_result"
    }
   ],
   "source": [
    "data[\"Severity\"].unique()"
   ]
  },
  {
   "cell_type": "markdown",
   "id": "a2192cc9-732c-4dc1-9160-cd50f91beebf",
   "metadata": {},
   "source": [
    "# EDA"
   ]
  },
  {
   "cell_type": "code",
   "execution_count": 68,
   "id": "82f9f521-6ab1-498a-a560-b1d4ec1691a8",
   "metadata": {},
   "outputs": [
    {
     "data": {
      "text/plain": [
       "(2000, 13)"
      ]
     },
     "execution_count": 68,
     "metadata": {},
     "output_type": "execute_result"
    }
   ],
   "source": [
    "data.shape"
   ]
  },
  {
   "cell_type": "code",
   "execution_count": 69,
   "id": "f8de717f-7e75-4fff-b464-a3a8bef2a0d8",
   "metadata": {
    "scrolled": true
   },
   "outputs": [
    {
     "name": "stdout",
     "output_type": "stream",
     "text": [
      "<class 'pandas.core.frame.DataFrame'>\n",
      "RangeIndex: 2000 entries, 0 to 1999\n",
      "Data columns (total 13 columns):\n",
      " #   Column               Non-Null Count  Dtype  \n",
      "---  ------               --------------  -----  \n",
      " 0   Patient_ID           2000 non-null   int64  \n",
      " 1   Age                  2000 non-null   int64  \n",
      " 2   Gender               2000 non-null   object \n",
      " 3   Symptom_1            2000 non-null   object \n",
      " 4   Symptom_2            2000 non-null   object \n",
      " 5   Symptom_3            2000 non-null   object \n",
      " 6   Heart_Rate_bpm       2000 non-null   int64  \n",
      " 7   Body_Temperature_C   2000 non-null   float64\n",
      " 8   Blood_Pressure_mmHg  2000 non-null   object \n",
      " 9   Oxygen_Saturation_%  2000 non-null   int64  \n",
      " 10  Diagnosis            2000 non-null   object \n",
      " 11  Severity             2000 non-null   object \n",
      " 12  Treatment_Plan       2000 non-null   object \n",
      "dtypes: float64(1), int64(4), object(8)\n",
      "memory usage: 203.3+ KB\n"
     ]
    }
   ],
   "source": [
    "data.info()"
   ]
  },
  {
   "cell_type": "code",
   "execution_count": 70,
   "id": "b4bd0617-8730-4178-bd3e-f2fded7290f4",
   "metadata": {
    "scrolled": true
   },
   "outputs": [
    {
     "data": {
      "text/plain": [
       "Patient_ID             0\n",
       "Age                    0\n",
       "Gender                 0\n",
       "Symptom_1              0\n",
       "Symptom_2              0\n",
       "Symptom_3              0\n",
       "Heart_Rate_bpm         0\n",
       "Body_Temperature_C     0\n",
       "Blood_Pressure_mmHg    0\n",
       "Oxygen_Saturation_%    0\n",
       "Diagnosis              0\n",
       "Severity               0\n",
       "Treatment_Plan         0\n",
       "dtype: int64"
      ]
     },
     "execution_count": 70,
     "metadata": {},
     "output_type": "execute_result"
    }
   ],
   "source": [
    "data.isna().sum()"
   ]
  },
  {
   "cell_type": "code",
   "execution_count": 71,
   "id": "f50bdc30-f802-44f0-9a8e-edef3424e221",
   "metadata": {},
   "outputs": [
    {
     "data": {
      "text/plain": [
       "0"
      ]
     },
     "execution_count": 71,
     "metadata": {},
     "output_type": "execute_result"
    }
   ],
   "source": [
    "data.duplicated().sum()"
   ]
  },
  {
   "cell_type": "code",
   "execution_count": 72,
   "id": "afb67252-f8c7-4ae9-b731-60ab25ff1c14",
   "metadata": {},
   "outputs": [
    {
     "data": {
      "text/html": [
       "<div>\n",
       "<style scoped>\n",
       "    .dataframe tbody tr th:only-of-type {\n",
       "        vertical-align: middle;\n",
       "    }\n",
       "\n",
       "    .dataframe tbody tr th {\n",
       "        vertical-align: top;\n",
       "    }\n",
       "\n",
       "    .dataframe thead th {\n",
       "        text-align: right;\n",
       "    }\n",
       "</style>\n",
       "<table border=\"1\" class=\"dataframe\">\n",
       "  <thead>\n",
       "    <tr style=\"text-align: right;\">\n",
       "      <th></th>\n",
       "      <th>Patient_ID</th>\n",
       "      <th>Age</th>\n",
       "      <th>Heart_Rate_bpm</th>\n",
       "      <th>Body_Temperature_C</th>\n",
       "      <th>Oxygen_Saturation_%</th>\n",
       "    </tr>\n",
       "  </thead>\n",
       "  <tbody>\n",
       "    <tr>\n",
       "      <th>count</th>\n",
       "      <td>2000.000000</td>\n",
       "      <td>2000.000000</td>\n",
       "      <td>2000.000000</td>\n",
       "      <td>2000.000000</td>\n",
       "      <td>2000.000000</td>\n",
       "    </tr>\n",
       "    <tr>\n",
       "      <th>mean</th>\n",
       "      <td>1000.500000</td>\n",
       "      <td>48.285000</td>\n",
       "      <td>89.439000</td>\n",
       "      <td>37.741000</td>\n",
       "      <td>94.493500</td>\n",
       "    </tr>\n",
       "    <tr>\n",
       "      <th>std</th>\n",
       "      <td>577.494589</td>\n",
       "      <td>17.422616</td>\n",
       "      <td>17.139608</td>\n",
       "      <td>1.309835</td>\n",
       "      <td>2.861827</td>\n",
       "    </tr>\n",
       "    <tr>\n",
       "      <th>min</th>\n",
       "      <td>1.000000</td>\n",
       "      <td>18.000000</td>\n",
       "      <td>60.000000</td>\n",
       "      <td>35.500000</td>\n",
       "      <td>90.000000</td>\n",
       "    </tr>\n",
       "    <tr>\n",
       "      <th>25%</th>\n",
       "      <td>500.750000</td>\n",
       "      <td>33.000000</td>\n",
       "      <td>75.000000</td>\n",
       "      <td>36.600000</td>\n",
       "      <td>92.000000</td>\n",
       "    </tr>\n",
       "    <tr>\n",
       "      <th>50%</th>\n",
       "      <td>1000.500000</td>\n",
       "      <td>49.000000</td>\n",
       "      <td>89.000000</td>\n",
       "      <td>37.700000</td>\n",
       "      <td>95.000000</td>\n",
       "    </tr>\n",
       "    <tr>\n",
       "      <th>75%</th>\n",
       "      <td>1500.250000</td>\n",
       "      <td>63.000000</td>\n",
       "      <td>104.000000</td>\n",
       "      <td>38.900000</td>\n",
       "      <td>97.000000</td>\n",
       "    </tr>\n",
       "    <tr>\n",
       "      <th>max</th>\n",
       "      <td>2000.000000</td>\n",
       "      <td>79.000000</td>\n",
       "      <td>119.000000</td>\n",
       "      <td>40.000000</td>\n",
       "      <td>99.000000</td>\n",
       "    </tr>\n",
       "  </tbody>\n",
       "</table>\n",
       "</div>"
      ],
      "text/plain": [
       "        Patient_ID          Age  Heart_Rate_bpm  Body_Temperature_C  \\\n",
       "count  2000.000000  2000.000000     2000.000000         2000.000000   \n",
       "mean   1000.500000    48.285000       89.439000           37.741000   \n",
       "std     577.494589    17.422616       17.139608            1.309835   \n",
       "min       1.000000    18.000000       60.000000           35.500000   \n",
       "25%     500.750000    33.000000       75.000000           36.600000   \n",
       "50%    1000.500000    49.000000       89.000000           37.700000   \n",
       "75%    1500.250000    63.000000      104.000000           38.900000   \n",
       "max    2000.000000    79.000000      119.000000           40.000000   \n",
       "\n",
       "       Oxygen_Saturation_%  \n",
       "count          2000.000000  \n",
       "mean             94.493500  \n",
       "std               2.861827  \n",
       "min              90.000000  \n",
       "25%              92.000000  \n",
       "50%              95.000000  \n",
       "75%              97.000000  \n",
       "max              99.000000  "
      ]
     },
     "execution_count": 72,
     "metadata": {},
     "output_type": "execute_result"
    }
   ],
   "source": [
    "data.describe()"
   ]
  },
  {
   "cell_type": "code",
   "execution_count": 73,
   "id": "6d345cda-6623-49b7-9305-3b1987388faa",
   "metadata": {},
   "outputs": [
    {
     "data": {
      "image/png": "[encoded data removed]",
      "text/plain": [
       "<Figure size 640x480 with 1 Axes>"
      ]
     },
     "metadata": {},
     "output_type": "display_data"
    }
   ],
   "source": [
    "# Visualization\n",
    "sns.countplot(x=\"Diagnosis\",data=data,palette=\"Greens\")\n",
    "plt.title(\"Disease distribution\")\n",
    "plt.show()"
   ]
  },
  {
   "cell_type": "code",
   "execution_count": 74,
   "id": "2ca3500c-ed20-4ac5-898c-9ebe8bbc6c4e",
   "metadata": {},
   "outputs": [
    {
     "data": {
      "image/png": "[encoded data removed]",
      "text/plain": [
       "<Figure size 640x480 with 1 Axes>"
      ]
     },
     "metadata": {},
     "output_type": "display_data"
    }
   ],
   "source": [
    "# Percentage of disease distribution\n",
    "data[\"Diagnosis\"].value_counts().plot.pie(autopct='%1.1f%%', colors=sns.color_palette(\"Greens\"))\n",
    "plt.title(\"Diagnosis distribution\")\n",
    "plt.ylabel(\"\")\n",
    "plt.show()"
   ]
  },
  {
   "cell_type": "code",
   "execution_count": 75,
   "id": "36cea088-3f84-4427-a1f6-2121eb5bfa8d",
   "metadata": {},
   "outputs": [
    {
     "data": {
      "image/png": "[encoded data removed]",
      "text/plain": [
       "<Figure size 640x480 with 1 Axes>"
      ]
     },
     "metadata": {},
     "output_type": "display_data"
    }
   ],
   "source": [
    "sns.countplot(x=\"Gender\", hue=\"Diagnosis\", data=data, palette=\"Set1\")\n",
    "plt.title(\"Gender vs. Diagnosis\")\n",
    "plt.show()"
   ]
  },
  {
   "cell_type": "code",
   "execution_count": 76,
   "id": "7d3f172f-7e5a-43e3-bd4f-be34bb0655a6",
   "metadata": {},
   "outputs": [
    {
     "data": {
      "image/png": "[encoded data removed]",
      "text/plain": [
       "<Figure size 640x480 with 1 Axes>"
      ]
     },
     "metadata": {},
     "output_type": "display_data"
    }
   ],
   "source": [
    "sns.boxplot(x=\"Diagnosis\", y=\"Age\", data=data, palette=\"Set2\")\n",
    "plt.title(\"Age distribution by Diagnosis\")\n",
    "plt.show()"
   ]
  },
  {
   "cell_type": "code",
   "execution_count": 77,
   "id": "e8124902-0485-4917-a3cb-c17a33943f87",
   "metadata": {},
   "outputs": [
    {
     "data": {
      "image/png": "[encoded data removed]",
      "text/plain": [
       "<Figure size 640x480 with 1 Axes>"
      ]
     },
     "metadata": {},
     "output_type": "display_data"
    }
   ],
   "source": [
    "sns.countplot(x=\"Severity\", data=data, palette=\"Set1\")\n",
    "plt.title(\"Severity Distribution\")\n",
    "plt.show()"
   ]
  },
  {
   "cell_type": "code",
   "execution_count": 78,
   "id": "24fc27ae-2f3f-4071-831f-9f875d966733",
   "metadata": {},
   "outputs": [
    {
     "data": {
      "image/png": "[encoded data removed]",
      "text/plain": [
       "<Figure size 640x480 with 1 Axes>"
      ]
     },
     "metadata": {},
     "output_type": "display_data"
    }
   ],
   "source": [
    "sns.boxplot(x=\"Severity\", y=\"Body_Temperature_C\", data=data, palette=\"Set2\")\n",
    "plt.title(\"Temperature by Severity\")\n",
    "plt.show()"
   ]
  },
  {
   "cell_type": "markdown",
   "id": "b88def86-f481-4572-88dc-89860b07146f",
   "metadata": {},
   "source": [
    "# Prepare data for model creation"
   ]
  },
  {
   "cell_type": "code",
   "execution_count": 79,
   "id": "f48b5af2-42ec-4527-97ed-3708e172cca0",
   "metadata": {},
   "outputs": [
    {
     "data": {
      "text/html": [
       "<div>\n",
       "<style scoped>\n",
       "    .dataframe tbody tr th:only-of-type {\n",
       "        vertical-align: middle;\n",
       "    }\n",
       "\n",
       "    .dataframe tbody tr th {\n",
       "        vertical-align: top;\n",
       "    }\n",
       "\n",
       "    .dataframe thead th {\n",
       "        text-align: right;\n",
       "    }\n",
       "</style>\n",
       "<table border=\"1\" class=\"dataframe\">\n",
       "  <thead>\n",
       "    <tr style=\"text-align: right;\">\n",
       "      <th></th>\n",
       "      <th>Patient_ID</th>\n",
       "      <th>Age</th>\n",
       "      <th>Gender</th>\n",
       "      <th>Symptom_1</th>\n",
       "      <th>Symptom_2</th>\n",
       "      <th>Symptom_3</th>\n",
       "      <th>Heart_Rate_bpm</th>\n",
       "      <th>Body_Temperature_C</th>\n",
       "      <th>Blood_Pressure_mmHg</th>\n",
       "      <th>Oxygen_Saturation_%</th>\n",
       "      <th>Diagnosis</th>\n",
       "      <th>Severity</th>\n",
       "      <th>Treatment_Plan</th>\n",
       "    </tr>\n",
       "  </thead>\n",
       "  <tbody>\n",
       "    <tr>\n",
       "      <th>0</th>\n",
       "      <td>1</td>\n",
       "      <td>74</td>\n",
       "      <td>Male</td>\n",
       "      <td>Fatigue</td>\n",
       "      <td>Sore throat</td>\n",
       "      <td>Fever</td>\n",
       "      <td>69</td>\n",
       "      <td>39.4</td>\n",
       "      <td>132/91</td>\n",
       "      <td>94</td>\n",
       "      <td>Flu</td>\n",
       "      <td>Moderate</td>\n",
       "      <td>Medication and rest</td>\n",
       "    </tr>\n",
       "    <tr>\n",
       "      <th>1</th>\n",
       "      <td>2</td>\n",
       "      <td>66</td>\n",
       "      <td>Female</td>\n",
       "      <td>Sore throat</td>\n",
       "      <td>Fatigue</td>\n",
       "      <td>Cough</td>\n",
       "      <td>95</td>\n",
       "      <td>39.0</td>\n",
       "      <td>174/98</td>\n",
       "      <td>98</td>\n",
       "      <td>Healthy</td>\n",
       "      <td>Mild</td>\n",
       "      <td>Rest and fluids</td>\n",
       "    </tr>\n",
       "    <tr>\n",
       "      <th>2</th>\n",
       "      <td>3</td>\n",
       "      <td>32</td>\n",
       "      <td>Male</td>\n",
       "      <td>Body ache</td>\n",
       "      <td>Sore throat</td>\n",
       "      <td>Fatigue</td>\n",
       "      <td>77</td>\n",
       "      <td>36.8</td>\n",
       "      <td>136/60</td>\n",
       "      <td>96</td>\n",
       "      <td>Healthy</td>\n",
       "      <td>Mild</td>\n",
       "      <td>Rest and fluids</td>\n",
       "    </tr>\n",
       "  </tbody>\n",
       "</table>\n",
       "</div>"
      ],
      "text/plain": [
       "   Patient_ID  Age  Gender    Symptom_1    Symptom_2 Symptom_3  \\\n",
       "0           1   74    Male      Fatigue  Sore throat     Fever   \n",
       "1           2   66  Female  Sore throat      Fatigue     Cough   \n",
       "2           3   32    Male    Body ache  Sore throat   Fatigue   \n",
       "\n",
       "   Heart_Rate_bpm  Body_Temperature_C Blood_Pressure_mmHg  \\\n",
       "0              69                39.4              132/91   \n",
       "1              95                39.0              174/98   \n",
       "2              77                36.8              136/60   \n",
       "\n",
       "   Oxygen_Saturation_% Diagnosis  Severity       Treatment_Plan  \n",
       "0                   94       Flu  Moderate  Medication and rest  \n",
       "1                   98   Healthy      Mild      Rest and fluids  \n",
       "2                   96   Healthy      Mild      Rest and fluids  "
      ]
     },
     "execution_count": 79,
     "metadata": {},
     "output_type": "execute_result"
    }
   ],
   "source": [
    "data.head(3)"
   ]
  },
  {
   "cell_type": "code",
   "execution_count": 80,
   "id": "49fce2cc-57b7-428f-a919-9058df24b16c",
   "metadata": {},
   "outputs": [],
   "source": [
    "# preprocessing for Blood Pressure\n",
    "bp_split = data[\"Blood_Pressure_mmHg\"].str.split(\"/\", expand=True).astype(float)\n",
    "data[\"Systolic_BP\"] = bp_split[0]\n",
    "data[\"Diastolic_BP\"] = bp_split[1]"
   ]
  },
  {
   "cell_type": "code",
   "execution_count": 81,
   "id": "8605b284-11cc-4de1-a587-66e6940fb41e",
   "metadata": {},
   "outputs": [],
   "source": [
    "# drop unwanted columns\n",
    "data.drop(columns=[\"Blood_Pressure_mmHg\",\"Patient_ID\"], inplace=True)"
   ]
  },
  {
   "cell_type": "code",
   "execution_count": 82,
   "id": "dcf8d7ac-7676-4a54-b86c-96d2e49827ce",
   "metadata": {},
   "outputs": [],
   "source": [
    "# Define target and features\n",
    "x = data.drop(columns=[\"Diagnosis\"])\n",
    "y = data[\"Diagnosis\"]"
   ]
  },
  {
   "cell_type": "code",
   "execution_count": 83,
   "id": "8b8f2b55-4ec5-488b-a2a7-936ebeaf95ba",
   "metadata": {},
   "outputs": [],
   "source": [
    "# Split train/test\n",
    "x_train, x_test, y_train, y_test = train_test_split(x, y, test_size=0.2, random_state=42)"
   ]
  },
  {
   "cell_type": "code",
   "execution_count": 84,
   "id": "19223fc9-6fc3-46ac-a03b-36540cdb2fc9",
   "metadata": {},
   "outputs": [
    {
     "name": "stdout",
     "output_type": "stream",
     "text": [
      "Numerical features: ['Age', 'Heart_Rate_bpm', 'Body_Temperature_C', 'Oxygen_Saturation_%', 'Systolic_BP', 'Diastolic_BP']\n",
      "Categorical features: ['Gender', 'Symptom_1', 'Symptom_2', 'Symptom_3', 'Severity', 'Treatment_Plan']\n"
     ]
    }
   ],
   "source": [
    "# Separate feature types\n",
    "num_cols = x.select_dtypes(include=['int64','float64']).columns.tolist()\n",
    "cat_cols = x.select_dtypes(include=['object']).columns.tolist()\n",
    "print(\"Numerical features:\", num_cols)\n",
    "print(\"Categorical features:\", cat_cols)"
   ]
  },
  {
   "cell_type": "code",
   "execution_count": 85,
   "id": "ec1b4912-008c-4bdd-baef-ac995afdd932",
   "metadata": {},
   "outputs": [],
   "source": [
    "# Preprocessing\n",
    "numeric_transformer = Pipeline(steps=[\n",
    "    ('scaler', StandardScaler())\n",
    "])\n",
    "\n",
    "categorical_transformer = Pipeline(steps=[\n",
    "    ('onehot', OneHotEncoder(handle_unknown='ignore'))\n",
    "])\n",
    "\n",
    "preprocessor = ColumnTransformer(\n",
    "    transformers=[\n",
    "        ('num', numeric_transformer, num_cols),\n",
    "        ('cat', categorical_transformer, cat_cols)\n",
    "    ]\n",
    ")"
   ]
  },
  {
   "cell_type": "code",
   "execution_count": 86,
   "id": "50a58258-2ede-47c1-a946-255bdfff231e",
   "metadata": {},
   "outputs": [],
   "source": [
    "# Build pipeline with Random Forest\n",
    "rf_clf = Pipeline(steps=[\n",
    "    ('preprocessor', preprocessor),\n",
    "    ('classifier', RandomForestClassifier(\n",
    "    ))\n",
    "])"
   ]
  },
  {
   "cell_type": "code",
   "execution_count": 87,
   "id": "650f1ccb-5e5a-44a9-8c94-832450729e38",
   "metadata": {},
   "outputs": [],
   "source": [
    "# Train model\n",
    "rf_clf.fit(x_train, y_train)\n",
    "\n",
    "# 8. Predictions\n",
    "y_pred = rf_clf.predict(x_test)"
   ]
  },
  {
   "cell_type": "code",
   "execution_count": 88,
   "id": "9aa5ba1b-f431-4a41-a8d4-832080192906",
   "metadata": {},
   "outputs": [
    {
     "name": "stdout",
     "output_type": "stream",
     "text": [
      "Accuracy: 99.25\n",
      "\n",
      "Classification Report:\n",
      "               precision    recall  f1-score   support\n",
      "\n",
      "  Bronchitis       0.96      1.00      0.98        64\n",
      "        Cold       1.00      1.00      1.00        29\n",
      "         Flu       1.00      1.00      1.00        58\n",
      "     Healthy       1.00      1.00      1.00       238\n",
      "   Pneumonia       1.00      0.73      0.84        11\n",
      "\n",
      "    accuracy                           0.99       400\n",
      "   macro avg       0.99      0.95      0.96       400\n",
      "weighted avg       0.99      0.99      0.99       400\n",
      "\n"
     ]
    }
   ],
   "source": [
    "# Evaluation\n",
    "print(\"Accuracy:\", accuracy_score(y_test, y_pred)*100)\n",
    "print(\"\\nClassification Report:\\n\", classification_report(y_test, y_pred))"
   ]
  },
  {
   "cell_type": "code",
   "execution_count": 89,
   "id": "2261129e-b7ca-4bde-9465-b89660e588d3",
   "metadata": {},
   "outputs": [],
   "source": [
    "with open(\"disease_diagnosis_model.pkl\", \"wb\") as f:\n",
    "    pickle.dump(rf_clf, f)"
   ]
  },
  {
   "cell_type": "code",
   "execution_count": null,
   "id": "40c37fe0-14a0-4bf2-a38a-bc7a570c6e71",
   "metadata": {},
   "outputs": [],
   "source": []
  }
 ],
 "metadata": {
  "kernelspec": {
   "display_name": "Python [conda env:base] *",
   "language": "python",
   "name": "conda-base-py"
  },
  "language_info": {
   "codemirror_mode": {
    "name": "ipython",
    "version": 3
   },
   "file_extension": ".py",
   "mimetype": "text/x-python",
   "name": "python",
   "nbconvert_exporter": "python",
   "pygments_lexer": "ipython3",
   "version": "3.12.7"
  }
 },
 "nbformat": 4,
 "nbformat_minor": 5
}
